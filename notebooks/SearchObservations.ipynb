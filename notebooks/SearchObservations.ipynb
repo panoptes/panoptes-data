{
 "cells": [
  {
   "cell_type": "markdown",
   "id": "030fe177-0d22-466f-bfe2-bd43f9fffb6a",
   "metadata": {
    "pycharm": {
     "name": "#%% md\n"
    }
   },
   "source": [
    "# Get Raw Images\n",
    "\n",
    "This notebook will demonstrate how to search for a specific image in order to get its `sequence_id`.\n",
    "\n",
    "Using a `sequence_id` we will create an `ObservationInfo` object for discovering information about the observation before showing how to download the image metadata and FITS files."
   ]
  },
  {
   "cell_type": "code",
   "execution_count": null,
   "id": "compliant-relevance",
   "metadata": {
    "pycharm": {
     "name": "#%%\n"
    }
   },
   "outputs": [],
   "source": [
    "import pandas as pd\n",
    "from astropy.coordinates import SkyCoord\n",
    "\n",
    "from panoptes.data.search import search_observations\n",
    "from panoptes.data.observations import ObservationInfo"
   ]
  },
  {
   "cell_type": "markdown",
   "id": "0a4bfd44-7e75-4868-9a99-b60fd2fe4698",
   "metadata": {
    "pycharm": {
     "name": "#%% md\n"
    }
   },
   "source": [
    "## Search for observations\n",
    "\n",
    "Using a sky coordinate, search for all matching observations with a certain radius."
   ]
  },
  {
   "cell_type": "code",
   "execution_count": null,
   "id": "44988744-8e84-4a54-a50c-a9ab3b7bf05a",
   "metadata": {
    "pycharm": {
     "name": "#%%\n"
    }
   },
   "outputs": [],
   "source": [
    "search_coords = SkyCoord.from_name('M42')\n",
    "search_coords"
   ]
  },
  {
   "cell_type": "code",
   "execution_count": null,
   "id": "accessible-fountain",
   "metadata": {
    "pycharm": {
     "name": "#%%\n"
    }
   },
   "outputs": [],
   "source": [
    "search_results = search_observations(\n",
    "    coords=search_coords,\n",
    "    radius=10,\n",
    "    min_num_images=5,\n",
    "    unit_id='PAN019'\n",
    ")\n",
    "\n",
    "print(f'Found {len(search_results)} observations')"
   ]
  },
  {
   "cell_type": "code",
   "execution_count": null,
   "id": "79d4f75c",
   "metadata": {
    "pycharm": {
     "name": "#%%\n"
    }
   },
   "outputs": [],
   "source": [
    "# Show a random example (run this cell again to see a different entry)\n",
    "search_results.sample(1).T"
   ]
  },
  {
   "cell_type": "code",
   "execution_count": null,
   "id": "15340975",
   "metadata": {
    "pycharm": {
     "name": "#%%\n"
    }
   },
   "outputs": [],
   "source": [
    "# Show the first and last five entries.\n",
    "search_results"
   ]
  },
  {
   "cell_type": "markdown",
   "id": "049c6524-0d02-42d6-ba72-f8acb3dd0fb8",
   "metadata": {
    "pycharm": {
     "name": "#%% md\n"
    }
   },
   "source": [
    "## Select observation\n",
    "\n",
    "A `sequence_id` is used to explore observations. Here we take the most recent observation to get the `sequence_id`."
   ]
  },
  {
   "cell_type": "code",
   "execution_count": null,
   "id": "cf45187b-5123-4a07-abbc-e1b9d455791f",
   "metadata": {
    "pycharm": {
     "name": "#%%\n"
    }
   },
   "outputs": [],
   "source": [
    "# We choose an entry that only has a few images while running on binder and get the most recent.\n",
    "record = search_results.query('num_images < 15').iloc[-1]\n",
    "record.T"
   ]
  },
  {
   "cell_type": "markdown",
   "id": "29f0d7c5",
   "metadata": {
    "pycharm": {
     "name": "#%% md\n"
    }
   },
   "source": [
    "## Get Observation info\n",
    "\n",
    "We can get more information about the observation by creating an `ObservationInfo` object. You can create it with just a `sequence_id` (e.g. `ObservationInfo(sequence_id=record.sequence_id)) but here we pass all the metadata."
   ]
  },
  {
   "cell_type": "code",
   "execution_count": null,
   "id": "0f3cb565-9e58-4ad2-93b2-1b14a550b9e0",
   "metadata": {
    "pycharm": {
     "name": "#%%\n"
    }
   },
   "outputs": [],
   "source": [
    "obs_info = ObservationInfo(meta=record)\n",
    "\n",
    "# Show the observation object.\n",
    "obs_info"
   ]
  },
  {
   "cell_type": "code",
   "execution_count": null,
   "id": "0af044b9",
   "metadata": {
    "pycharm": {
     "name": "#%%\n"
    }
   },
   "outputs": [],
   "source": [
    "obs_info.meta"
   ]
  },
  {
   "cell_type": "markdown",
   "id": "ec354b08",
   "metadata": {
    "pycharm": {
     "name": "#%% md\n"
    }
   },
   "source": [
    "### Show example of the image metadata and how to save to file\n",
    "\n",
    "The metadata for each image is stored in the `obs_info.image_metadata` dataframe. \n",
    "\n",
    "We view a random example and then write the metadata to a file that can be downloaded in the file browser on the left."
   ]
  },
  {
   "cell_type": "code",
   "execution_count": null,
   "outputs": [],
   "source": [
    "obs_info.image_metadata"
   ],
   "metadata": {
    "collapsed": false,
    "pycharm": {
     "name": "#%%\n"
    }
   }
  },
  {
   "cell_type": "code",
   "execution_count": null,
   "id": "61a50b55",
   "metadata": {
    "pycharm": {
     "name": "#%%\n"
    }
   },
   "outputs": [],
   "source": [
    "# Randomly sample one image from the dataframe then transpose it so it's easier to read.\n",
    "obs_info.image_metadata.sample(1).T"
   ]
  },
  {
   "cell_type": "code",
   "execution_count": null,
   "id": "941b5fb8",
   "metadata": {
    "pycharm": {
     "name": "#%%\n"
    }
   },
   "outputs": [],
   "source": [
    "# obs_info.image_metadata.to_csv(f'{obs_info.sequence_id}-image-metadata.csv')"
   ]
  },
  {
   "cell_type": "markdown",
   "id": "752dfedd",
   "metadata": {
    "pycharm": {
     "name": "#%% md\n"
    }
   },
   "source": [
    "### Download files locally\n",
    "\n",
    "We can use the built-in `download_images` method of our `obs_info` object to download the files locally.\n",
    "\n",
    "By default this will create an output directory that is the same as the `sequence_id` but this can be changed. You can also pass a limited list of files for download. \n",
    "\n",
    "Run `obs_info.download_images?` for more information."
   ]
  },
  {
   "cell_type": "code",
   "execution_count": null,
   "id": "5a3099ff",
   "metadata": {
    "pycharm": {
     "name": "#%%\n"
    }
   },
   "outputs": [],
   "source": [
    "# image_files = obs_info.download_images()"
   ]
  },
  {
   "cell_type": "markdown",
   "id": "4cdd5675",
   "metadata": {
    "pycharm": {
     "name": "#%% md\n"
    }
   },
   "source": [
    "### Write image list to a CSV file, use `wget` to download\n",
    "\n",
    "Or, if you prefer you can just get a list of files saved as csv and work on them in a command line terminal.\n",
    "\n",
    "This first creates a DataFrame then immediately writes that to a CSV file. There are many ways to accomplish this but this is an easy way.\n",
    "\n",
    "We then view the last few lines of the file using the command line tool `tail` called in a cell with the `!` operator.\n",
    "\n",
    "We then use the same `!` operator to call `wget` in the shell and download a list of files. Note that you can just copy the CSV file to your computer or server and use the `wget -i <filename.txt>` command to download all the files. **Note that this can be a lot of data!**"
   ]
  },
  {
   "cell_type": "code",
   "execution_count": null,
   "id": "bd398c3c",
   "metadata": {
    "pycharm": {
     "name": "#%%\n"
    }
   },
   "outputs": [],
   "source": [
    "# Create a dataframe and then write it to a CSV file.\n",
    "pd.DataFrame(obs_info.get_image_list()).to_csv(f'{obs_info.sequence_id}-raw.txt', index=False, header=False)"
   ]
  },
  {
   "cell_type": "code",
   "execution_count": null,
   "id": "7f8b8033",
   "metadata": {
    "pycharm": {
     "name": "#%%\n"
    }
   },
   "outputs": [],
   "source": [
    "# View the last entries in the file.\n",
    "!tail {obs_info.sequence_id}-raw.txt"
   ]
  },
  {
   "cell_type": "markdown",
   "id": "382b0b1d",
   "metadata": {
    "pycharm": {
     "name": "#%% md\n"
    }
   },
   "source": [
    "#### Download the data"
   ]
  },
  {
   "cell_type": "code",
   "execution_count": null,
   "id": "7ebaa5f1",
   "metadata": {
    "pycharm": {
     "name": "#%%\n"
    }
   },
   "outputs": [],
   "source": [
    "### Uncomment to run ###\n",
    "# !wget -i {obs_info.sequence_id}-raw.txt\n"
   ]
  }
 ],
 "metadata": {
  "environment": {
   "kernel": "python3",
   "name": "common-cpu.m92",
   "type": "gcloud",
   "uri": "gcr.io/deeplearning-platform-release/base-cpu:m92"
  },
  "kernelspec": {
   "display_name": "Python 3 (ipykernel)",
   "language": "python",
   "name": "python3"
  },
  "language_info": {
   "codemirror_mode": {
    "name": "ipython",
    "version": 3
   },
   "file_extension": ".py",
   "mimetype": "text/x-python",
   "name": "python",
   "nbconvert_exporter": "python",
   "pygments_lexer": "ipython3",
   "version": "3.7.12"
  }
 },
 "nbformat": 4,
 "nbformat_minor": 5
}