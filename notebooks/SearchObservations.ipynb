{
 "cells": [
  {
   "cell_type": "markdown",
   "id": "030fe177-0d22-466f-bfe2-bd43f9fffb6a",
   "metadata": {
    "pycharm": {
     "name": "#%% md\n"
    }
   },
   "source": [
    "# Get Raw Images\n",
    "\n",
    "This notebook will demonstrate how to search for a specific image in order to get its `sequence_id`.\n",
    "\n",
    "Using a `sequence_id` we will create an `ObservationInfo` object for discovering information about the observation before showing how to download the image metadata and FITS files."
   ]
  },
  {
   "cell_type": "code",
   "execution_count": 1,
   "id": "compliant-relevance",
   "metadata": {
    "pycharm": {
     "name": "#%%\n"
    }
   },
   "outputs": [
    {
     "name": "stderr",
     "output_type": "stream",
     "text": [
      "/home/wtgee/miniconda3/envs/panoptes-data/lib/python3.10/site-packages/tqdm/auto.py:22: TqdmWarning: IProgress not found. Please update jupyter and ipywidgets. See https://ipywidgets.readthedocs.io/en/stable/user_install.html\n",
      "  from .autonotebook import tqdm as notebook_tqdm\n"
     ]
    }
   ],
   "source": [
    "import pandas as pd\n",
    "from astropy.coordinates import SkyCoord\n",
    "\n",
    "from panoptes.data.search import search_observations\n",
    "from panoptes.data.observations import ObservationInfo"
   ]
  },
  {
   "cell_type": "markdown",
   "id": "0a4bfd44-7e75-4868-9a99-b60fd2fe4698",
   "metadata": {
    "pycharm": {
     "name": "#%% md\n"
    }
   },
   "source": [
    "## Search for observations\n",
    "\n",
    "Using a sky coordinate, search for all matching observations with a certain radius."
   ]
  },
  {
   "cell_type": "code",
   "execution_count": 2,
   "id": "44988744-8e84-4a54-a50c-a9ab3b7bf05a",
   "metadata": {
    "pycharm": {
     "name": "#%%\n"
    }
   },
   "outputs": [
    {
     "data": {
      "text/plain": "<SkyCoord (ICRS): (ra, dec) in deg\n    (83.82208, -5.39111)>"
     },
     "execution_count": 2,
     "metadata": {},
     "output_type": "execute_result"
    }
   ],
   "source": [
    "search_coords = SkyCoord.from_name('M42')\n",
    "search_coords"
   ]
  },
  {
   "cell_type": "code",
   "execution_count": 3,
   "id": "accessible-fountain",
   "metadata": {
    "pycharm": {
     "name": "#%%\n"
    }
   },
   "outputs": [
    {
     "name": "stdout",
     "output_type": "stream",
     "text": [
      "Found 20 observations\n"
     ]
    }
   ],
   "source": [
    "search_results = search_observations(\n",
    "    coords=search_coords,\n",
    "    radius=10,\n",
    "    min_num_images=5,\n",
    "    unit_id='PAN019'\n",
    ")\n",
    "\n",
    "print(f'Found {len(search_results)} observations')"
   ]
  },
  {
   "cell_type": "code",
   "execution_count": 4,
   "id": "79d4f75c",
   "metadata": {
    "pycharm": {
     "name": "#%%\n"
    }
   },
   "outputs": [
    {
     "data": {
      "text/plain": "                                                            1055\ncamera_id                                                 c623e9\ncamera_lens_serial_number                              RL1552832\ncamera_serial_number                                273074013304\ncoordinates_airmass                                     1.136313\ncoordinates_mount_dec                                   -5.39111\ncoordinates_mount_ha                                   23.101843\ncoordinates_mount_ra                                    83.82208\nfield_name                                                   M42\nimageh                                                         0\nimagew                                                         0\nnum_images                                                    33\nsequence_id                        PAN019_c623e9_20220115T070915\nsoftware_version           POCSv0.8.0.post0.dev7+g8c57c125.dirty\ntime                                   2022-01-15 07:09:15+00:00\ntotal_exptime                                             2937.0\nunit_id                                                   PAN019\nexptime                                                     89.0",
      "text/html": "<div>\n<style scoped>\n    .dataframe tbody tr th:only-of-type {\n        vertical-align: middle;\n    }\n\n    .dataframe tbody tr th {\n        vertical-align: top;\n    }\n\n    .dataframe thead th {\n        text-align: right;\n    }\n</style>\n<table border=\"1\" class=\"dataframe\">\n  <thead>\n    <tr style=\"text-align: right;\">\n      <th></th>\n      <th>1055</th>\n    </tr>\n  </thead>\n  <tbody>\n    <tr>\n      <th>camera_id</th>\n      <td>c623e9</td>\n    </tr>\n    <tr>\n      <th>camera_lens_serial_number</th>\n      <td>RL1552832</td>\n    </tr>\n    <tr>\n      <th>camera_serial_number</th>\n      <td>273074013304</td>\n    </tr>\n    <tr>\n      <th>coordinates_airmass</th>\n      <td>1.136313</td>\n    </tr>\n    <tr>\n      <th>coordinates_mount_dec</th>\n      <td>-5.39111</td>\n    </tr>\n    <tr>\n      <th>coordinates_mount_ha</th>\n      <td>23.101843</td>\n    </tr>\n    <tr>\n      <th>coordinates_mount_ra</th>\n      <td>83.82208</td>\n    </tr>\n    <tr>\n      <th>field_name</th>\n      <td>M42</td>\n    </tr>\n    <tr>\n      <th>imageh</th>\n      <td>0</td>\n    </tr>\n    <tr>\n      <th>imagew</th>\n      <td>0</td>\n    </tr>\n    <tr>\n      <th>num_images</th>\n      <td>33</td>\n    </tr>\n    <tr>\n      <th>sequence_id</th>\n      <td>PAN019_c623e9_20220115T070915</td>\n    </tr>\n    <tr>\n      <th>software_version</th>\n      <td>POCSv0.8.0.post0.dev7+g8c57c125.dirty</td>\n    </tr>\n    <tr>\n      <th>time</th>\n      <td>2022-01-15 07:09:15+00:00</td>\n    </tr>\n    <tr>\n      <th>total_exptime</th>\n      <td>2937.0</td>\n    </tr>\n    <tr>\n      <th>unit_id</th>\n      <td>PAN019</td>\n    </tr>\n    <tr>\n      <th>exptime</th>\n      <td>89.0</td>\n    </tr>\n  </tbody>\n</table>\n</div>"
     },
     "execution_count": 4,
     "metadata": {},
     "output_type": "execute_result"
    }
   ],
   "source": [
    "# Show a random example (run this cell again to see a different entry)\n",
    "search_results.sample(1).T"
   ]
  },
  {
   "cell_type": "code",
   "execution_count": 5,
   "id": "15340975",
   "metadata": {
    "pycharm": {
     "name": "#%%\n"
    }
   },
   "outputs": [
    {
     "data": {
      "text/plain": "     camera_id camera_lens_serial_number  camera_serial_number  \\\n1064    42433a                 RL1548256          273074013260   \n1063    c623e9                 RL1552832          273074013304   \n1062    42433a                 RL1548256          273074013260   \n1061    c623e9                 RL1552832          273074013304   \n1060    42433a                 RL1548256          273074013260   \n1059    c623e9                 RL1552832          273074013304   \n1056    42433a                 RL1548256          273074013260   \n1055    c623e9                 RL1552832          273074013304   \n1054    42433a                 RL1548256          273074013260   \n1053    c623e9                 RL1552832          273074013304   \n1052    42433a                 RL1548256          273074013260   \n1051    c623e9                 RL1552832          273074013304   \n1046    c623e9                 RL1552832          273074013304   \n1045    42433a                 RL1548256          273074013260   \n1038    42433a                 RL1548256          273074013260   \n1037    c623e9                 RL1552832          273074013304   \n1034    c623e9                 RL1552832          273074013304   \n1033    42433a                 RL1548256          273074013260   \n1028    c623e9                 RL1552832          273074013304   \n1027    42433a                 RL1548256          273074013260   \n\n      coordinates_airmass  coordinates_mount_dec  coordinates_mount_ha  \\\n1064             1.103328               -5.39111             23.886201   \n1063             1.111012               -5.39111              0.479317   \n1062             1.298554               -5.39111              2.106934   \n1061             1.116015               -5.39111              0.600016   \n1060             1.165687               -5.39111             22.777680   \n1059             1.511834               -5.39111             21.191126   \n1056             1.102712               -5.39111             23.977197   \n1055             1.136313               -5.39111             23.101843   \n1054             1.266788               -5.39111              1.950433   \n1053             1.318294               -5.39111              2.195532   \n1052             1.574277               -5.39111             21.036146   \n1051             1.278549               -5.39111             22.025773   \n1046             1.107446               -5.39111             23.668450   \n1045             1.112187               -5.39111             23.525972   \n1038             1.178223               -5.39111              1.370300   \n1037             1.162510               -5.39111              1.228406   \n1034             1.533038               -5.39111              2.900030   \n1033             1.455817               -5.39111              2.687999   \n1028             1.276645               -5.39111             22.035330   \n1027             1.405974               -5.39111             21.506373   \n\n      coordinates_mount_ra field_name  imageh  imagew  num_images  \\\n1064              83.82208        M42       0       0          65   \n1063              83.82208        M42       0       0          64   \n1062              83.82208        M42       0       0          90   \n1061              83.82208        M42       0       0          90   \n1060              83.82208        M42       0       0          59   \n1059              83.82208        M42       0       0          59   \n1056              83.82208        M42       0       0          33   \n1055              83.82208        M42       0       0          33   \n1054              83.82208        M42       0       0         105   \n1053              83.82208        M42       0       0         105   \n1052              83.82208        M42       0       0          65   \n1051              83.82208        M42       0       0          65   \n1046              83.82208        M42       0       0          64   \n1045              83.82208        M42       0       0          64   \n1038              83.82208        M42       0       0          64   \n1037              83.82208        M42       0       0          64   \n1034              83.82208        M42       0       0          12   \n1033              83.82208        M42       0       0          12   \n1028              83.82208        M42       0       0          62   \n1027              83.82208        M42       0       0          62   \n\n                        sequence_id                       software_version  \\\n1064  PAN019_42433a_20220114T063812  POCSv0.8.0.post0.dev7+g8c57c125.dirty   \n1063  PAN019_c623e9_20220114T063812  POCSv0.8.0.post0.dev7+g8c57c125.dirty   \n1062  PAN019_42433a_20220114T085722  POCSv0.8.0.post0.dev7+g8c57c125.dirty   \n1061  PAN019_c623e9_20220114T085722  POCSv0.8.0.post0.dev7+g8c57c125.dirty   \n1060  PAN019_42433a_20220115T050238  POCSv0.8.0.post0.dev7+g8c57c125.dirty   \n1059  PAN019_c623e9_20220115T050238  POCSv0.8.0.post0.dev7+g8c57c125.dirty   \n1056  PAN019_42433a_20220115T070915  POCSv0.8.0.post0.dev7+g8c57c125.dirty   \n1055  PAN019_c623e9_20220115T070915  POCSv0.8.0.post0.dev7+g8c57c125.dirty   \n1054  PAN019_42433a_20220115T082108  POCSv0.8.0.post0.dev7+g8c57c125.dirty   \n1053  PAN019_c623e9_20220115T082108  POCSv0.8.0.post0.dev7+g8c57c125.dirty   \n1052  PAN019_42433a_20220116T045736  POCSv0.8.0.post0.dev7+g8c57c125.dirty   \n1051  PAN019_c623e9_20220116T045736  POCSv0.8.0.post0.dev7+g8c57c125.dirty   \n1046  PAN019_c623e9_20220117T053733  POCSv0.8.0.post0.dev7+g8c57c125.dirty   \n1045  PAN019_42433a_20220117T053733  POCSv0.8.0.post0.dev7+g8c57c125.dirty   \n1038  PAN019_42433a_20220117T082323  POCSv0.8.0.post0.dev7+g8c57c125.dirty   \n1037  PAN019_c623e9_20220117T082323  POCSv0.8.0.post0.dev7+g8c57c125.dirty   \n1034  PAN019_c623e9_20220117T104417  POCSv0.8.0.post0.dev7+g8c57c125.dirty   \n1033  PAN019_42433a_20220117T104417  POCSv0.8.0.post0.dev7+g8c57c125.dirty   \n1028  PAN019_c623e9_20220118T045650        POCSv0.8.0.post0.dev9+gce63321b   \n1027  PAN019_42433a_20220118T045650        POCSv0.8.0.post0.dev9+gce63321b   \n\n                          time  total_exptime unit_id    exptime  \n1064 2022-01-14 06:38:12+00:00         5850.0  PAN019  90.000000  \n1063 2022-01-14 06:38:12+00:00         5696.0  PAN019  89.000000  \n1062 2022-01-14 08:57:22+00:00         8100.0  PAN019  90.000000  \n1061 2022-01-14 08:57:22+00:00         8012.0  PAN019  89.022222  \n1060 2022-01-15 05:02:38+00:00         5303.0  PAN019  89.881356  \n1059 2022-01-15 05:02:38+00:00         5251.0  PAN019  89.000000  \n1056 2022-01-15 07:09:15+00:00         2970.0  PAN019  90.000000  \n1055 2022-01-15 07:09:15+00:00         2937.0  PAN019  89.000000  \n1054 2022-01-15 08:21:08+00:00         9451.0  PAN019  90.009524  \n1053 2022-01-15 08:21:08+00:00         9347.0  PAN019  89.019048  \n1052 2022-01-16 04:57:36+00:00         5850.0  PAN019  90.000000  \n1051 2022-01-16 04:57:36+00:00         5785.0  PAN019  89.000000  \n1046 2022-01-17 05:37:33+00:00         5696.0  PAN019  89.000000  \n1045 2022-01-17 05:37:33+00:00         5760.0  PAN019  90.000000  \n1038 2022-01-17 08:23:23+00:00         5760.0  PAN019  90.000000  \n1037 2022-01-17 08:23:23+00:00         5696.0  PAN019  89.000000  \n1034 2022-01-17 10:44:17+00:00         1068.0  PAN019  89.000000  \n1033 2022-01-17 10:44:17+00:00         1080.0  PAN019  90.000000  \n1028 2022-01-18 04:56:50+00:00         5518.0  PAN019  89.000000  \n1027 2022-01-18 04:56:50+00:00         5550.0  PAN019  89.516129  ",
      "text/html": "<div>\n<style scoped>\n    .dataframe tbody tr th:only-of-type {\n        vertical-align: middle;\n    }\n\n    .dataframe tbody tr th {\n        vertical-align: top;\n    }\n\n    .dataframe thead th {\n        text-align: right;\n    }\n</style>\n<table border=\"1\" class=\"dataframe\">\n  <thead>\n    <tr style=\"text-align: right;\">\n      <th></th>\n      <th>camera_id</th>\n      <th>camera_lens_serial_number</th>\n      <th>camera_serial_number</th>\n      <th>coordinates_airmass</th>\n      <th>coordinates_mount_dec</th>\n      <th>coordinates_mount_ha</th>\n      <th>coordinates_mount_ra</th>\n      <th>field_name</th>\n      <th>imageh</th>\n      <th>imagew</th>\n      <th>num_images</th>\n      <th>sequence_id</th>\n      <th>software_version</th>\n      <th>time</th>\n      <th>total_exptime</th>\n      <th>unit_id</th>\n      <th>exptime</th>\n    </tr>\n  </thead>\n  <tbody>\n    <tr>\n      <th>1064</th>\n      <td>42433a</td>\n      <td>RL1548256</td>\n      <td>273074013260</td>\n      <td>1.103328</td>\n      <td>-5.39111</td>\n      <td>23.886201</td>\n      <td>83.82208</td>\n      <td>M42</td>\n      <td>0</td>\n      <td>0</td>\n      <td>65</td>\n      <td>PAN019_42433a_20220114T063812</td>\n      <td>POCSv0.8.0.post0.dev7+g8c57c125.dirty</td>\n      <td>2022-01-14 06:38:12+00:00</td>\n      <td>5850.0</td>\n      <td>PAN019</td>\n      <td>90.000000</td>\n    </tr>\n    <tr>\n      <th>1063</th>\n      <td>c623e9</td>\n      <td>RL1552832</td>\n      <td>273074013304</td>\n      <td>1.111012</td>\n      <td>-5.39111</td>\n      <td>0.479317</td>\n      <td>83.82208</td>\n      <td>M42</td>\n      <td>0</td>\n      <td>0</td>\n      <td>64</td>\n      <td>PAN019_c623e9_20220114T063812</td>\n      <td>POCSv0.8.0.post0.dev7+g8c57c125.dirty</td>\n      <td>2022-01-14 06:38:12+00:00</td>\n      <td>5696.0</td>\n      <td>PAN019</td>\n      <td>89.000000</td>\n    </tr>\n    <tr>\n      <th>1062</th>\n      <td>42433a</td>\n      <td>RL1548256</td>\n      <td>273074013260</td>\n      <td>1.298554</td>\n      <td>-5.39111</td>\n      <td>2.106934</td>\n      <td>83.82208</td>\n      <td>M42</td>\n      <td>0</td>\n      <td>0</td>\n      <td>90</td>\n      <td>PAN019_42433a_20220114T085722</td>\n      <td>POCSv0.8.0.post0.dev7+g8c57c125.dirty</td>\n      <td>2022-01-14 08:57:22+00:00</td>\n      <td>8100.0</td>\n      <td>PAN019</td>\n      <td>90.000000</td>\n    </tr>\n    <tr>\n      <th>1061</th>\n      <td>c623e9</td>\n      <td>RL1552832</td>\n      <td>273074013304</td>\n      <td>1.116015</td>\n      <td>-5.39111</td>\n      <td>0.600016</td>\n      <td>83.82208</td>\n      <td>M42</td>\n      <td>0</td>\n      <td>0</td>\n      <td>90</td>\n      <td>PAN019_c623e9_20220114T085722</td>\n      <td>POCSv0.8.0.post0.dev7+g8c57c125.dirty</td>\n      <td>2022-01-14 08:57:22+00:00</td>\n      <td>8012.0</td>\n      <td>PAN019</td>\n      <td>89.022222</td>\n    </tr>\n    <tr>\n      <th>1060</th>\n      <td>42433a</td>\n      <td>RL1548256</td>\n      <td>273074013260</td>\n      <td>1.165687</td>\n      <td>-5.39111</td>\n      <td>22.777680</td>\n      <td>83.82208</td>\n      <td>M42</td>\n      <td>0</td>\n      <td>0</td>\n      <td>59</td>\n      <td>PAN019_42433a_20220115T050238</td>\n      <td>POCSv0.8.0.post0.dev7+g8c57c125.dirty</td>\n      <td>2022-01-15 05:02:38+00:00</td>\n      <td>5303.0</td>\n      <td>PAN019</td>\n      <td>89.881356</td>\n    </tr>\n    <tr>\n      <th>1059</th>\n      <td>c623e9</td>\n      <td>RL1552832</td>\n      <td>273074013304</td>\n      <td>1.511834</td>\n      <td>-5.39111</td>\n      <td>21.191126</td>\n      <td>83.82208</td>\n      <td>M42</td>\n      <td>0</td>\n      <td>0</td>\n      <td>59</td>\n      <td>PAN019_c623e9_20220115T050238</td>\n      <td>POCSv0.8.0.post0.dev7+g8c57c125.dirty</td>\n      <td>2022-01-15 05:02:38+00:00</td>\n      <td>5251.0</td>\n      <td>PAN019</td>\n      <td>89.000000</td>\n    </tr>\n    <tr>\n      <th>1056</th>\n      <td>42433a</td>\n      <td>RL1548256</td>\n      <td>273074013260</td>\n      <td>1.102712</td>\n      <td>-5.39111</td>\n      <td>23.977197</td>\n      <td>83.82208</td>\n      <td>M42</td>\n      <td>0</td>\n      <td>0</td>\n      <td>33</td>\n      <td>PAN019_42433a_20220115T070915</td>\n      <td>POCSv0.8.0.post0.dev7+g8c57c125.dirty</td>\n      <td>2022-01-15 07:09:15+00:00</td>\n      <td>2970.0</td>\n      <td>PAN019</td>\n      <td>90.000000</td>\n    </tr>\n    <tr>\n      <th>1055</th>\n      <td>c623e9</td>\n      <td>RL1552832</td>\n      <td>273074013304</td>\n      <td>1.136313</td>\n      <td>-5.39111</td>\n      <td>23.101843</td>\n      <td>83.82208</td>\n      <td>M42</td>\n      <td>0</td>\n      <td>0</td>\n      <td>33</td>\n      <td>PAN019_c623e9_20220115T070915</td>\n      <td>POCSv0.8.0.post0.dev7+g8c57c125.dirty</td>\n      <td>2022-01-15 07:09:15+00:00</td>\n      <td>2937.0</td>\n      <td>PAN019</td>\n      <td>89.000000</td>\n    </tr>\n    <tr>\n      <th>1054</th>\n      <td>42433a</td>\n      <td>RL1548256</td>\n      <td>273074013260</td>\n      <td>1.266788</td>\n      <td>-5.39111</td>\n      <td>1.950433</td>\n      <td>83.82208</td>\n      <td>M42</td>\n      <td>0</td>\n      <td>0</td>\n      <td>105</td>\n      <td>PAN019_42433a_20220115T082108</td>\n      <td>POCSv0.8.0.post0.dev7+g8c57c125.dirty</td>\n      <td>2022-01-15 08:21:08+00:00</td>\n      <td>9451.0</td>\n      <td>PAN019</td>\n      <td>90.009524</td>\n    </tr>\n    <tr>\n      <th>1053</th>\n      <td>c623e9</td>\n      <td>RL1552832</td>\n      <td>273074013304</td>\n      <td>1.318294</td>\n      <td>-5.39111</td>\n      <td>2.195532</td>\n      <td>83.82208</td>\n      <td>M42</td>\n      <td>0</td>\n      <td>0</td>\n      <td>105</td>\n      <td>PAN019_c623e9_20220115T082108</td>\n      <td>POCSv0.8.0.post0.dev7+g8c57c125.dirty</td>\n      <td>2022-01-15 08:21:08+00:00</td>\n      <td>9347.0</td>\n      <td>PAN019</td>\n      <td>89.019048</td>\n    </tr>\n    <tr>\n      <th>1052</th>\n      <td>42433a</td>\n      <td>RL1548256</td>\n      <td>273074013260</td>\n      <td>1.574277</td>\n      <td>-5.39111</td>\n      <td>21.036146</td>\n      <td>83.82208</td>\n      <td>M42</td>\n      <td>0</td>\n      <td>0</td>\n      <td>65</td>\n      <td>PAN019_42433a_20220116T045736</td>\n      <td>POCSv0.8.0.post0.dev7+g8c57c125.dirty</td>\n      <td>2022-01-16 04:57:36+00:00</td>\n      <td>5850.0</td>\n      <td>PAN019</td>\n      <td>90.000000</td>\n    </tr>\n    <tr>\n      <th>1051</th>\n      <td>c623e9</td>\n      <td>RL1552832</td>\n      <td>273074013304</td>\n      <td>1.278549</td>\n      <td>-5.39111</td>\n      <td>22.025773</td>\n      <td>83.82208</td>\n      <td>M42</td>\n      <td>0</td>\n      <td>0</td>\n      <td>65</td>\n      <td>PAN019_c623e9_20220116T045736</td>\n      <td>POCSv0.8.0.post0.dev7+g8c57c125.dirty</td>\n      <td>2022-01-16 04:57:36+00:00</td>\n      <td>5785.0</td>\n      <td>PAN019</td>\n      <td>89.000000</td>\n    </tr>\n    <tr>\n      <th>1046</th>\n      <td>c623e9</td>\n      <td>RL1552832</td>\n      <td>273074013304</td>\n      <td>1.107446</td>\n      <td>-5.39111</td>\n      <td>23.668450</td>\n      <td>83.82208</td>\n      <td>M42</td>\n      <td>0</td>\n      <td>0</td>\n      <td>64</td>\n      <td>PAN019_c623e9_20220117T053733</td>\n      <td>POCSv0.8.0.post0.dev7+g8c57c125.dirty</td>\n      <td>2022-01-17 05:37:33+00:00</td>\n      <td>5696.0</td>\n      <td>PAN019</td>\n      <td>89.000000</td>\n    </tr>\n    <tr>\n      <th>1045</th>\n      <td>42433a</td>\n      <td>RL1548256</td>\n      <td>273074013260</td>\n      <td>1.112187</td>\n      <td>-5.39111</td>\n      <td>23.525972</td>\n      <td>83.82208</td>\n      <td>M42</td>\n      <td>0</td>\n      <td>0</td>\n      <td>64</td>\n      <td>PAN019_42433a_20220117T053733</td>\n      <td>POCSv0.8.0.post0.dev7+g8c57c125.dirty</td>\n      <td>2022-01-17 05:37:33+00:00</td>\n      <td>5760.0</td>\n      <td>PAN019</td>\n      <td>90.000000</td>\n    </tr>\n    <tr>\n      <th>1038</th>\n      <td>42433a</td>\n      <td>RL1548256</td>\n      <td>273074013260</td>\n      <td>1.178223</td>\n      <td>-5.39111</td>\n      <td>1.370300</td>\n      <td>83.82208</td>\n      <td>M42</td>\n      <td>0</td>\n      <td>0</td>\n      <td>64</td>\n      <td>PAN019_42433a_20220117T082323</td>\n      <td>POCSv0.8.0.post0.dev7+g8c57c125.dirty</td>\n      <td>2022-01-17 08:23:23+00:00</td>\n      <td>5760.0</td>\n      <td>PAN019</td>\n      <td>90.000000</td>\n    </tr>\n    <tr>\n      <th>1037</th>\n      <td>c623e9</td>\n      <td>RL1552832</td>\n      <td>273074013304</td>\n      <td>1.162510</td>\n      <td>-5.39111</td>\n      <td>1.228406</td>\n      <td>83.82208</td>\n      <td>M42</td>\n      <td>0</td>\n      <td>0</td>\n      <td>64</td>\n      <td>PAN019_c623e9_20220117T082323</td>\n      <td>POCSv0.8.0.post0.dev7+g8c57c125.dirty</td>\n      <td>2022-01-17 08:23:23+00:00</td>\n      <td>5696.0</td>\n      <td>PAN019</td>\n      <td>89.000000</td>\n    </tr>\n    <tr>\n      <th>1034</th>\n      <td>c623e9</td>\n      <td>RL1552832</td>\n      <td>273074013304</td>\n      <td>1.533038</td>\n      <td>-5.39111</td>\n      <td>2.900030</td>\n      <td>83.82208</td>\n      <td>M42</td>\n      <td>0</td>\n      <td>0</td>\n      <td>12</td>\n      <td>PAN019_c623e9_20220117T104417</td>\n      <td>POCSv0.8.0.post0.dev7+g8c57c125.dirty</td>\n      <td>2022-01-17 10:44:17+00:00</td>\n      <td>1068.0</td>\n      <td>PAN019</td>\n      <td>89.000000</td>\n    </tr>\n    <tr>\n      <th>1033</th>\n      <td>42433a</td>\n      <td>RL1548256</td>\n      <td>273074013260</td>\n      <td>1.455817</td>\n      <td>-5.39111</td>\n      <td>2.687999</td>\n      <td>83.82208</td>\n      <td>M42</td>\n      <td>0</td>\n      <td>0</td>\n      <td>12</td>\n      <td>PAN019_42433a_20220117T104417</td>\n      <td>POCSv0.8.0.post0.dev7+g8c57c125.dirty</td>\n      <td>2022-01-17 10:44:17+00:00</td>\n      <td>1080.0</td>\n      <td>PAN019</td>\n      <td>90.000000</td>\n    </tr>\n    <tr>\n      <th>1028</th>\n      <td>c623e9</td>\n      <td>RL1552832</td>\n      <td>273074013304</td>\n      <td>1.276645</td>\n      <td>-5.39111</td>\n      <td>22.035330</td>\n      <td>83.82208</td>\n      <td>M42</td>\n      <td>0</td>\n      <td>0</td>\n      <td>62</td>\n      <td>PAN019_c623e9_20220118T045650</td>\n      <td>POCSv0.8.0.post0.dev9+gce63321b</td>\n      <td>2022-01-18 04:56:50+00:00</td>\n      <td>5518.0</td>\n      <td>PAN019</td>\n      <td>89.000000</td>\n    </tr>\n    <tr>\n      <th>1027</th>\n      <td>42433a</td>\n      <td>RL1548256</td>\n      <td>273074013260</td>\n      <td>1.405974</td>\n      <td>-5.39111</td>\n      <td>21.506373</td>\n      <td>83.82208</td>\n      <td>M42</td>\n      <td>0</td>\n      <td>0</td>\n      <td>62</td>\n      <td>PAN019_42433a_20220118T045650</td>\n      <td>POCSv0.8.0.post0.dev9+gce63321b</td>\n      <td>2022-01-18 04:56:50+00:00</td>\n      <td>5550.0</td>\n      <td>PAN019</td>\n      <td>89.516129</td>\n    </tr>\n  </tbody>\n</table>\n</div>"
     },
     "execution_count": 5,
     "metadata": {},
     "output_type": "execute_result"
    }
   ],
   "source": [
    "# Show the first and last five entries.\n",
    "search_results"
   ]
  },
  {
   "cell_type": "markdown",
   "id": "049c6524-0d02-42d6-ba72-f8acb3dd0fb8",
   "metadata": {
    "pycharm": {
     "name": "#%% md\n"
    }
   },
   "source": [
    "## Select observation\n",
    "\n",
    "A `sequence_id` is used to explore observations. Here we take the most recent observation to get the `sequence_id`."
   ]
  },
  {
   "cell_type": "code",
   "execution_count": 6,
   "id": "cf45187b-5123-4a07-abbc-e1b9d455791f",
   "metadata": {
    "pycharm": {
     "name": "#%%\n"
    }
   },
   "outputs": [
    {
     "data": {
      "text/plain": "camera_id                                                   42433a\ncamera_lens_serial_number                                RL1548256\ncamera_serial_number                                  273074013260\ncoordinates_airmass                                       1.455817\ncoordinates_mount_dec                                     -5.39111\ncoordinates_mount_ha                                      2.687999\ncoordinates_mount_ra                                      83.82208\nfield_name                                                     M42\nimageh                                                           0\nimagew                                                           0\nnum_images                                                      12\nsequence_id                          PAN019_42433a_20220117T104417\nsoftware_version             POCSv0.8.0.post0.dev7+g8c57c125.dirty\ntime                                     2022-01-17 10:44:17+00:00\ntotal_exptime                                               1080.0\nunit_id                                                     PAN019\nexptime                                                       90.0\nName: 1033, dtype: object"
     },
     "execution_count": 6,
     "metadata": {},
     "output_type": "execute_result"
    }
   ],
   "source": [
    "# We choose an entry that only has a few images while running on binder and get the most recent.\n",
    "record = search_results.query('num_images < 15').iloc[-1]\n",
    "record.T"
   ]
  },
  {
   "cell_type": "markdown",
   "id": "29f0d7c5",
   "metadata": {
    "pycharm": {
     "name": "#%% md\n"
    }
   },
   "source": [
    "## Get Observation info\n",
    "\n",
    "We can get more information about the observation by creating an `ObservationInfo` object. You can create it with just a `sequence_id` (e.g. `ObservationInfo(sequence_id=record.sequence_id)) but here we pass all the metadata."
   ]
  },
  {
   "cell_type": "code",
   "execution_count": 7,
   "id": "0f3cb565-9e58-4ad2-93b2-1b14a550b9e0",
   "metadata": {
    "pycharm": {
     "name": "#%%\n"
    }
   },
   "outputs": [
    {
     "data": {
      "text/plain": "Obs: seq_id=PAN019_42433a_20220117T104417 num_images=11"
     },
     "execution_count": 7,
     "metadata": {},
     "output_type": "execute_result"
    }
   ],
   "source": [
    "obs_info = ObservationInfo(meta=record)\n",
    "\n",
    "# Show the observation object.\n",
    "obs_info"
   ]
  },
  {
   "cell_type": "code",
   "execution_count": 8,
   "id": "0af044b9",
   "metadata": {
    "pycharm": {
     "name": "#%%\n"
    }
   },
   "outputs": [
    {
     "data": {
      "text/plain": "camera_id                                                   42433a\ncamera_lens_serial_number                                RL1548256\ncamera_serial_number                                  273074013260\ncoordinates_airmass                                       1.455817\ncoordinates_mount_dec                                     -5.39111\ncoordinates_mount_ha                                      2.687999\ncoordinates_mount_ra                                      83.82208\nfield_name                                                     M42\nimageh                                                           0\nimagew                                                           0\nnum_images                                                      12\nsequence_id                          PAN019_42433a_20220117T104417\nsoftware_version             POCSv0.8.0.post0.dev7+g8c57c125.dirty\ntime                                     2022-01-17 10:44:17+00:00\ntotal_exptime                                               1080.0\nunit_id                                                     PAN019\nexptime                                                       90.0\nName: 1033, dtype: object"
     },
     "execution_count": 8,
     "metadata": {},
     "output_type": "execute_result"
    }
   ],
   "source": [
    "obs_info.meta"
   ]
  },
  {
   "cell_type": "markdown",
   "id": "ec354b08",
   "metadata": {
    "pycharm": {
     "name": "#%% md\n"
    }
   },
   "source": [
    "### Show example of the image metadata and how to save to file\n",
    "\n",
    "The metadata for each image is stored in the `obs_info.image_metadata` dataframe. \n",
    "\n",
    "We view a random example and then write the metadata to a file that can be downloaded in the file browser on the left."
   ]
  },
  {
   "cell_type": "code",
   "execution_count": 9,
   "outputs": [
    {
     "data": {
      "text/plain": "                        time         file_creation_date  \\\n1  2022-01-17 10:47:23+00:00  2022-01-17 10:47:23+00:00   \n2  2022-01-17 10:49:28+00:00  2022-01-17 10:49:28+00:00   \n3  2022-01-17 10:51:31+00:00  2022-01-17 10:51:31+00:00   \n4  2022-01-17 10:53:36+00:00  2022-01-17 10:53:36+00:00   \n5  2022-01-17 10:55:43+00:00  2022-01-17 10:55:43+00:00   \n6  2022-01-17 10:57:47+00:00  2022-01-17 10:57:47+00:00   \n7  2022-01-17 10:59:58+00:00  2022-01-17 10:59:58+00:00   \n8  2022-01-17 11:02:07+00:00  2022-01-17 11:02:07+00:00   \n9  2022-01-17 11:04:12+00:00  2022-01-17 11:04:12+00:00   \n10 2022-01-17 11:06:22+00:00  2022-01-17 11:06:22+00:00   \n11 2022-01-17 11:08:31+00:00  2022-01-17 11:08:31+00:00   \n\n                                              uid unit_id  \\\n1   PAN019_42433a_20220117T104417_20220117T104723  PAN019   \n2   PAN019_42433a_20220117T104417_20220117T104928  PAN019   \n3   PAN019_42433a_20220117T104417_20220117T105131  PAN019   \n4   PAN019_42433a_20220117T104417_20220117T105336  PAN019   \n5   PAN019_42433a_20220117T104417_20220117T105543  PAN019   \n6   PAN019_42433a_20220117T104417_20220117T105747  PAN019   \n7   PAN019_42433a_20220117T104417_20220117T105958  PAN019   \n8   PAN019_42433a_20220117T104417_20220117T110207  PAN019   \n9   PAN019_42433a_20220117T104417_20220117T110412  PAN019   \n10  PAN019_42433a_20220117T104417_20220117T110622  PAN019   \n11  PAN019_42433a_20220117T104417_20220117T110831  PAN019   \n\n                      sequence_id  \\\n1   PAN019_42433a_20220117T104417   \n2   PAN019_42433a_20220117T104417   \n3   PAN019_42433a_20220117T104417   \n4   PAN019_42433a_20220117T104417   \n5   PAN019_42433a_20220117T104417   \n6   PAN019_42433a_20220117T104417   \n7   PAN019_42433a_20220117T104417   \n8   PAN019_42433a_20220117T104417   \n9   PAN019_42433a_20220117T104417   \n10  PAN019_42433a_20220117T104417   \n11  PAN019_42433a_20220117T104417   \n\n                                              raw_url  status       MJD_OBS  \\\n1   https://storage.googleapis.com/panoptes-images...  SOLVED  59596.034711   \n2   https://storage.googleapis.com/panoptes-images...  SOLVED  59596.036157   \n3   https://storage.googleapis.com/panoptes-images...  SOLVED  59596.037581   \n4   https://storage.googleapis.com/panoptes-images...  SOLVED  59596.039028   \n5   https://storage.googleapis.com/panoptes-images...  SOLVED  59596.040486   \n6   https://storage.googleapis.com/panoptes-images...  SOLVED  59596.041933   \n7   https://storage.googleapis.com/panoptes-images...  SOLVED  59596.043449   \n8   https://storage.googleapis.com/panoptes-images...  SOLVED  59596.044942   \n9   https://storage.googleapis.com/panoptes-images...  SOLVED  59596.046389   \n10  https://storage.googleapis.com/panoptes-images...  SOLVED  59596.047894   \n11  https://storage.googleapis.com/panoptes-images...  SOLVED  59596.049375   \n\n    environment_moonsep  environment_moonfrac  ...  location_elevation  \\\n1             43.601980              0.996071  ...              3400.0   \n2             43.603061              0.996085  ...              3400.0   \n3             43.604125              0.996098  ...              3400.0   \n4             43.605207              0.996112  ...              3400.0   \n5             43.606306              0.996126  ...              3400.0   \n6             43.607388              0.996140  ...              3400.0   \n7             43.608523              0.996155  ...              3400.0   \n8             43.609638              0.996169  ...              3400.0   \n9             43.610721              0.996183  ...              3400.0   \n10            43.611846              0.996197  ...              3400.0   \n11            43.612962              0.996211  ...              3400.0   \n\n           ha       dec  delta_seconds  delta_ha_arcsec delta_ra_arcsec  \\\n1   40.784600 -1.506587          125.0      1891.567846      -11.395324   \n2   41.307428 -1.510995          125.0      1882.180673       -2.011851   \n3   41.825226 -1.515136          123.0      1864.072509      -13.987257   \n4   42.353025 -1.519168          125.0      1900.077220      -19.910322   \n5   42.883861 -1.523189          127.0      1911.010791       -0.762724   \n6   43.403188 -1.527697          124.0      1869.577255       -4.448575   \n7   43.955122 -1.532015          131.0      1986.961980      -16.546530   \n8   44.496383 -1.536147          129.0      1948.539059       -8.207563   \n9   45.019356 -1.540324          125.0      1882.702321       -2.535088   \n10  45.565891 -1.544539          130.0      1967.524883      -12.151451   \n11  46.107926 -1.549074          129.0      1951.327444      -10.992725   \n\n    delta_dec_arcsec  ha_drift_arcsec_per_sec  ra_drift_arcsec_per_sec  \\\n1         -17.449204                 0.092543                -0.091130   \n2         -15.873018                 0.017445                -0.016089   \n3         -14.941550                 0.115061                -0.113677   \n4         -14.558477                 0.160618                -0.159225   \n5         -14.478144                 0.007329                -0.006004   \n6         -16.237728                 0.037236                -0.035863   \n7         -15.580074                 0.127649                -0.126263   \n8         -14.896005                 0.064954                -0.063601   \n9         -15.044035                 0.021619                -0.020273   \n10        -15.201941                 0.094807                -0.093438   \n11        -16.350607                 0.086569                -0.085183   \n\n    dec_drift_arcsec_per_sec  \n1                  -0.139594  \n2                  -0.126984  \n3                  -0.121476  \n4                  -0.116468  \n5                  -0.114001  \n6                  -0.130949  \n7                  -0.118932  \n8                  -0.115473  \n9                  -0.120352  \n10                 -0.116938  \n11                 -0.126749  \n\n[11 rows x 45 columns]",
      "text/html": "<div>\n<style scoped>\n    .dataframe tbody tr th:only-of-type {\n        vertical-align: middle;\n    }\n\n    .dataframe tbody tr th {\n        vertical-align: top;\n    }\n\n    .dataframe thead th {\n        text-align: right;\n    }\n</style>\n<table border=\"1\" class=\"dataframe\">\n  <thead>\n    <tr style=\"text-align: right;\">\n      <th></th>\n      <th>time</th>\n      <th>file_creation_date</th>\n      <th>uid</th>\n      <th>unit_id</th>\n      <th>sequence_id</th>\n      <th>raw_url</th>\n      <th>status</th>\n      <th>MJD_OBS</th>\n      <th>environment_moonsep</th>\n      <th>environment_moonfrac</th>\n      <th>...</th>\n      <th>location_elevation</th>\n      <th>ha</th>\n      <th>dec</th>\n      <th>delta_seconds</th>\n      <th>delta_ha_arcsec</th>\n      <th>delta_ra_arcsec</th>\n      <th>delta_dec_arcsec</th>\n      <th>ha_drift_arcsec_per_sec</th>\n      <th>ra_drift_arcsec_per_sec</th>\n      <th>dec_drift_arcsec_per_sec</th>\n    </tr>\n  </thead>\n  <tbody>\n    <tr>\n      <th>1</th>\n      <td>2022-01-17 10:47:23+00:00</td>\n      <td>2022-01-17 10:47:23+00:00</td>\n      <td>PAN019_42433a_20220117T104417_20220117T104723</td>\n      <td>PAN019</td>\n      <td>PAN019_42433a_20220117T104417</td>\n      <td>https://storage.googleapis.com/panoptes-images...</td>\n      <td>SOLVED</td>\n      <td>59596.034711</td>\n      <td>43.601980</td>\n      <td>0.996071</td>\n      <td>...</td>\n      <td>3400.0</td>\n      <td>40.784600</td>\n      <td>-1.506587</td>\n      <td>125.0</td>\n      <td>1891.567846</td>\n      <td>-11.395324</td>\n      <td>-17.449204</td>\n      <td>0.092543</td>\n      <td>-0.091130</td>\n      <td>-0.139594</td>\n    </tr>\n    <tr>\n      <th>2</th>\n      <td>2022-01-17 10:49:28+00:00</td>\n      <td>2022-01-17 10:49:28+00:00</td>\n      <td>PAN019_42433a_20220117T104417_20220117T104928</td>\n      <td>PAN019</td>\n      <td>PAN019_42433a_20220117T104417</td>\n      <td>https://storage.googleapis.com/panoptes-images...</td>\n      <td>SOLVED</td>\n      <td>59596.036157</td>\n      <td>43.603061</td>\n      <td>0.996085</td>\n      <td>...</td>\n      <td>3400.0</td>\n      <td>41.307428</td>\n      <td>-1.510995</td>\n      <td>125.0</td>\n      <td>1882.180673</td>\n      <td>-2.011851</td>\n      <td>-15.873018</td>\n      <td>0.017445</td>\n      <td>-0.016089</td>\n      <td>-0.126984</td>\n    </tr>\n    <tr>\n      <th>3</th>\n      <td>2022-01-17 10:51:31+00:00</td>\n      <td>2022-01-17 10:51:31+00:00</td>\n      <td>PAN019_42433a_20220117T104417_20220117T105131</td>\n      <td>PAN019</td>\n      <td>PAN019_42433a_20220117T104417</td>\n      <td>https://storage.googleapis.com/panoptes-images...</td>\n      <td>SOLVED</td>\n      <td>59596.037581</td>\n      <td>43.604125</td>\n      <td>0.996098</td>\n      <td>...</td>\n      <td>3400.0</td>\n      <td>41.825226</td>\n      <td>-1.515136</td>\n      <td>123.0</td>\n      <td>1864.072509</td>\n      <td>-13.987257</td>\n      <td>-14.941550</td>\n      <td>0.115061</td>\n      <td>-0.113677</td>\n      <td>-0.121476</td>\n    </tr>\n    <tr>\n      <th>4</th>\n      <td>2022-01-17 10:53:36+00:00</td>\n      <td>2022-01-17 10:53:36+00:00</td>\n      <td>PAN019_42433a_20220117T104417_20220117T105336</td>\n      <td>PAN019</td>\n      <td>PAN019_42433a_20220117T104417</td>\n      <td>https://storage.googleapis.com/panoptes-images...</td>\n      <td>SOLVED</td>\n      <td>59596.039028</td>\n      <td>43.605207</td>\n      <td>0.996112</td>\n      <td>...</td>\n      <td>3400.0</td>\n      <td>42.353025</td>\n      <td>-1.519168</td>\n      <td>125.0</td>\n      <td>1900.077220</td>\n      <td>-19.910322</td>\n      <td>-14.558477</td>\n      <td>0.160618</td>\n      <td>-0.159225</td>\n      <td>-0.116468</td>\n    </tr>\n    <tr>\n      <th>5</th>\n      <td>2022-01-17 10:55:43+00:00</td>\n      <td>2022-01-17 10:55:43+00:00</td>\n      <td>PAN019_42433a_20220117T104417_20220117T105543</td>\n      <td>PAN019</td>\n      <td>PAN019_42433a_20220117T104417</td>\n      <td>https://storage.googleapis.com/panoptes-images...</td>\n      <td>SOLVED</td>\n      <td>59596.040486</td>\n      <td>43.606306</td>\n      <td>0.996126</td>\n      <td>...</td>\n      <td>3400.0</td>\n      <td>42.883861</td>\n      <td>-1.523189</td>\n      <td>127.0</td>\n      <td>1911.010791</td>\n      <td>-0.762724</td>\n      <td>-14.478144</td>\n      <td>0.007329</td>\n      <td>-0.006004</td>\n      <td>-0.114001</td>\n    </tr>\n    <tr>\n      <th>6</th>\n      <td>2022-01-17 10:57:47+00:00</td>\n      <td>2022-01-17 10:57:47+00:00</td>\n      <td>PAN019_42433a_20220117T104417_20220117T105747</td>\n      <td>PAN019</td>\n      <td>PAN019_42433a_20220117T104417</td>\n      <td>https://storage.googleapis.com/panoptes-images...</td>\n      <td>SOLVED</td>\n      <td>59596.041933</td>\n      <td>43.607388</td>\n      <td>0.996140</td>\n      <td>...</td>\n      <td>3400.0</td>\n      <td>43.403188</td>\n      <td>-1.527697</td>\n      <td>124.0</td>\n      <td>1869.577255</td>\n      <td>-4.448575</td>\n      <td>-16.237728</td>\n      <td>0.037236</td>\n      <td>-0.035863</td>\n      <td>-0.130949</td>\n    </tr>\n    <tr>\n      <th>7</th>\n      <td>2022-01-17 10:59:58+00:00</td>\n      <td>2022-01-17 10:59:58+00:00</td>\n      <td>PAN019_42433a_20220117T104417_20220117T105958</td>\n      <td>PAN019</td>\n      <td>PAN019_42433a_20220117T104417</td>\n      <td>https://storage.googleapis.com/panoptes-images...</td>\n      <td>SOLVED</td>\n      <td>59596.043449</td>\n      <td>43.608523</td>\n      <td>0.996155</td>\n      <td>...</td>\n      <td>3400.0</td>\n      <td>43.955122</td>\n      <td>-1.532015</td>\n      <td>131.0</td>\n      <td>1986.961980</td>\n      <td>-16.546530</td>\n      <td>-15.580074</td>\n      <td>0.127649</td>\n      <td>-0.126263</td>\n      <td>-0.118932</td>\n    </tr>\n    <tr>\n      <th>8</th>\n      <td>2022-01-17 11:02:07+00:00</td>\n      <td>2022-01-17 11:02:07+00:00</td>\n      <td>PAN019_42433a_20220117T104417_20220117T110207</td>\n      <td>PAN019</td>\n      <td>PAN019_42433a_20220117T104417</td>\n      <td>https://storage.googleapis.com/panoptes-images...</td>\n      <td>SOLVED</td>\n      <td>59596.044942</td>\n      <td>43.609638</td>\n      <td>0.996169</td>\n      <td>...</td>\n      <td>3400.0</td>\n      <td>44.496383</td>\n      <td>-1.536147</td>\n      <td>129.0</td>\n      <td>1948.539059</td>\n      <td>-8.207563</td>\n      <td>-14.896005</td>\n      <td>0.064954</td>\n      <td>-0.063601</td>\n      <td>-0.115473</td>\n    </tr>\n    <tr>\n      <th>9</th>\n      <td>2022-01-17 11:04:12+00:00</td>\n      <td>2022-01-17 11:04:12+00:00</td>\n      <td>PAN019_42433a_20220117T104417_20220117T110412</td>\n      <td>PAN019</td>\n      <td>PAN019_42433a_20220117T104417</td>\n      <td>https://storage.googleapis.com/panoptes-images...</td>\n      <td>SOLVED</td>\n      <td>59596.046389</td>\n      <td>43.610721</td>\n      <td>0.996183</td>\n      <td>...</td>\n      <td>3400.0</td>\n      <td>45.019356</td>\n      <td>-1.540324</td>\n      <td>125.0</td>\n      <td>1882.702321</td>\n      <td>-2.535088</td>\n      <td>-15.044035</td>\n      <td>0.021619</td>\n      <td>-0.020273</td>\n      <td>-0.120352</td>\n    </tr>\n    <tr>\n      <th>10</th>\n      <td>2022-01-17 11:06:22+00:00</td>\n      <td>2022-01-17 11:06:22+00:00</td>\n      <td>PAN019_42433a_20220117T104417_20220117T110622</td>\n      <td>PAN019</td>\n      <td>PAN019_42433a_20220117T104417</td>\n      <td>https://storage.googleapis.com/panoptes-images...</td>\n      <td>SOLVED</td>\n      <td>59596.047894</td>\n      <td>43.611846</td>\n      <td>0.996197</td>\n      <td>...</td>\n      <td>3400.0</td>\n      <td>45.565891</td>\n      <td>-1.544539</td>\n      <td>130.0</td>\n      <td>1967.524883</td>\n      <td>-12.151451</td>\n      <td>-15.201941</td>\n      <td>0.094807</td>\n      <td>-0.093438</td>\n      <td>-0.116938</td>\n    </tr>\n    <tr>\n      <th>11</th>\n      <td>2022-01-17 11:08:31+00:00</td>\n      <td>2022-01-17 11:08:31+00:00</td>\n      <td>PAN019_42433a_20220117T104417_20220117T110831</td>\n      <td>PAN019</td>\n      <td>PAN019_42433a_20220117T104417</td>\n      <td>https://storage.googleapis.com/panoptes-images...</td>\n      <td>SOLVED</td>\n      <td>59596.049375</td>\n      <td>43.612962</td>\n      <td>0.996211</td>\n      <td>...</td>\n      <td>3400.0</td>\n      <td>46.107926</td>\n      <td>-1.549074</td>\n      <td>129.0</td>\n      <td>1951.327444</td>\n      <td>-10.992725</td>\n      <td>-16.350607</td>\n      <td>0.086569</td>\n      <td>-0.085183</td>\n      <td>-0.126749</td>\n    </tr>\n  </tbody>\n</table>\n<p>11 rows × 45 columns</p>\n</div>"
     },
     "execution_count": 9,
     "metadata": {},
     "output_type": "execute_result"
    }
   ],
   "source": [
    "obs_info.image_metadata"
   ],
   "metadata": {
    "collapsed": false,
    "pycharm": {
     "name": "#%%\n"
    }
   }
  },
  {
   "cell_type": "code",
   "execution_count": 10,
   "id": "61a50b55",
   "metadata": {
    "pycharm": {
     "name": "#%%\n"
    }
   },
   "outputs": [
    {
     "data": {
      "text/plain": "                                                                          4\ntime                                              2022-01-17 10:53:36+00:00\nfile_creation_date                                2022-01-17 10:53:36+00:00\nuid                           PAN019_42433a_20220117T104417_20220117T105336\nunit_id                                                              PAN019\nsequence_id                                   PAN019_42433a_20220117T104417\nraw_url                   https://storage.googleapis.com/panoptes-images...\nstatus                                                               SOLVED\nMJD_OBS                                                        59596.039028\nenvironment_moonsep                                               43.605207\nenvironment_moonfrac                                               0.996112\ncamera_iso                                                              100\ncamera_white_lvln                                                     11765\ncamera_circconf                                                       0.019\ncamera_red_balance                                                 2.553711\ncamera_measured_r                                                     376.0\ncamera_dateobs                                    2022-01-17 00:56:12+00:00\ncamera_measured_b                                                     773.0\ncamera_temperature                                                     12.0\ncamera_blue_balance                                                1.389648\ncamera_measured_g2                                                   1024.0\ncamera_exptime                                                         90.0\ncamera_colortemp                                                     7413.0\ncamera_measured_g1                                                   1024.0\ncamera_white_lvls                                                     12277\ncamera_measured_ev2                                                   -3.25\ncamera_measured_ev1                                                   -3.25\ncoordinates_ra                                                    82.030188\ncoordinates_ha                                                     2.823535\ncoordinates_airmass                                                1.454894\ncoordinates_ha_deg                                                42.353025\ncoordinates_dec                                                    -1.53581\ncoordinates_alt                                                   43.419538\ncoordinates_az                                                   248.001873\nlocation_longitude                                                  -155.58\nlocation_latitude                                                     19.54\nlocation_elevation                                                   3400.0\nha                                                                42.353025\ndec                                                               -1.519168\ndelta_seconds                                                         125.0\ndelta_ha_arcsec                                                  1900.07722\ndelta_ra_arcsec                                                  -19.910322\ndelta_dec_arcsec                                                 -14.558477\nha_drift_arcsec_per_sec                                            0.160618\nra_drift_arcsec_per_sec                                           -0.159225\ndec_drift_arcsec_per_sec                                          -0.116468",
      "text/html": "<div>\n<style scoped>\n    .dataframe tbody tr th:only-of-type {\n        vertical-align: middle;\n    }\n\n    .dataframe tbody tr th {\n        vertical-align: top;\n    }\n\n    .dataframe thead th {\n        text-align: right;\n    }\n</style>\n<table border=\"1\" class=\"dataframe\">\n  <thead>\n    <tr style=\"text-align: right;\">\n      <th></th>\n      <th>4</th>\n    </tr>\n  </thead>\n  <tbody>\n    <tr>\n      <th>time</th>\n      <td>2022-01-17 10:53:36+00:00</td>\n    </tr>\n    <tr>\n      <th>file_creation_date</th>\n      <td>2022-01-17 10:53:36+00:00</td>\n    </tr>\n    <tr>\n      <th>uid</th>\n      <td>PAN019_42433a_20220117T104417_20220117T105336</td>\n    </tr>\n    <tr>\n      <th>unit_id</th>\n      <td>PAN019</td>\n    </tr>\n    <tr>\n      <th>sequence_id</th>\n      <td>PAN019_42433a_20220117T104417</td>\n    </tr>\n    <tr>\n      <th>raw_url</th>\n      <td>https://storage.googleapis.com/panoptes-images...</td>\n    </tr>\n    <tr>\n      <th>status</th>\n      <td>SOLVED</td>\n    </tr>\n    <tr>\n      <th>MJD_OBS</th>\n      <td>59596.039028</td>\n    </tr>\n    <tr>\n      <th>environment_moonsep</th>\n      <td>43.605207</td>\n    </tr>\n    <tr>\n      <th>environment_moonfrac</th>\n      <td>0.996112</td>\n    </tr>\n    <tr>\n      <th>camera_iso</th>\n      <td>100</td>\n    </tr>\n    <tr>\n      <th>camera_white_lvln</th>\n      <td>11765</td>\n    </tr>\n    <tr>\n      <th>camera_circconf</th>\n      <td>0.019</td>\n    </tr>\n    <tr>\n      <th>camera_red_balance</th>\n      <td>2.553711</td>\n    </tr>\n    <tr>\n      <th>camera_measured_r</th>\n      <td>376.0</td>\n    </tr>\n    <tr>\n      <th>camera_dateobs</th>\n      <td>2022-01-17 00:56:12+00:00</td>\n    </tr>\n    <tr>\n      <th>camera_measured_b</th>\n      <td>773.0</td>\n    </tr>\n    <tr>\n      <th>camera_temperature</th>\n      <td>12.0</td>\n    </tr>\n    <tr>\n      <th>camera_blue_balance</th>\n      <td>1.389648</td>\n    </tr>\n    <tr>\n      <th>camera_measured_g2</th>\n      <td>1024.0</td>\n    </tr>\n    <tr>\n      <th>camera_exptime</th>\n      <td>90.0</td>\n    </tr>\n    <tr>\n      <th>camera_colortemp</th>\n      <td>7413.0</td>\n    </tr>\n    <tr>\n      <th>camera_measured_g1</th>\n      <td>1024.0</td>\n    </tr>\n    <tr>\n      <th>camera_white_lvls</th>\n      <td>12277</td>\n    </tr>\n    <tr>\n      <th>camera_measured_ev2</th>\n      <td>-3.25</td>\n    </tr>\n    <tr>\n      <th>camera_measured_ev1</th>\n      <td>-3.25</td>\n    </tr>\n    <tr>\n      <th>coordinates_ra</th>\n      <td>82.030188</td>\n    </tr>\n    <tr>\n      <th>coordinates_ha</th>\n      <td>2.823535</td>\n    </tr>\n    <tr>\n      <th>coordinates_airmass</th>\n      <td>1.454894</td>\n    </tr>\n    <tr>\n      <th>coordinates_ha_deg</th>\n      <td>42.353025</td>\n    </tr>\n    <tr>\n      <th>coordinates_dec</th>\n      <td>-1.53581</td>\n    </tr>\n    <tr>\n      <th>coordinates_alt</th>\n      <td>43.419538</td>\n    </tr>\n    <tr>\n      <th>coordinates_az</th>\n      <td>248.001873</td>\n    </tr>\n    <tr>\n      <th>location_longitude</th>\n      <td>-155.58</td>\n    </tr>\n    <tr>\n      <th>location_latitude</th>\n      <td>19.54</td>\n    </tr>\n    <tr>\n      <th>location_elevation</th>\n      <td>3400.0</td>\n    </tr>\n    <tr>\n      <th>ha</th>\n      <td>42.353025</td>\n    </tr>\n    <tr>\n      <th>dec</th>\n      <td>-1.519168</td>\n    </tr>\n    <tr>\n      <th>delta_seconds</th>\n      <td>125.0</td>\n    </tr>\n    <tr>\n      <th>delta_ha_arcsec</th>\n      <td>1900.07722</td>\n    </tr>\n    <tr>\n      <th>delta_ra_arcsec</th>\n      <td>-19.910322</td>\n    </tr>\n    <tr>\n      <th>delta_dec_arcsec</th>\n      <td>-14.558477</td>\n    </tr>\n    <tr>\n      <th>ha_drift_arcsec_per_sec</th>\n      <td>0.160618</td>\n    </tr>\n    <tr>\n      <th>ra_drift_arcsec_per_sec</th>\n      <td>-0.159225</td>\n    </tr>\n    <tr>\n      <th>dec_drift_arcsec_per_sec</th>\n      <td>-0.116468</td>\n    </tr>\n  </tbody>\n</table>\n</div>"
     },
     "execution_count": 10,
     "metadata": {},
     "output_type": "execute_result"
    }
   ],
   "source": [
    "# Randomly sample one image from the dataframe then transpose it so it's easier to read.\n",
    "obs_info.image_metadata.sample(1).T"
   ]
  },
  {
   "cell_type": "code",
   "execution_count": 10,
   "id": "941b5fb8",
   "metadata": {
    "pycharm": {
     "name": "#%%\n"
    }
   },
   "outputs": [],
   "source": [
    "# obs_info.image_metadata.to_csv(f'{obs_info.sequence_id}-image-metadata.csv')"
   ]
  },
  {
   "cell_type": "markdown",
   "id": "752dfedd",
   "metadata": {
    "pycharm": {
     "name": "#%% md\n"
    }
   },
   "source": [
    "### Download files locally\n",
    "\n",
    "We can use the built-in `download_images` method of our `obs_info` object to download the files locally.\n",
    "\n",
    "By default this will create an output directory that is the same as the `sequence_id` but this can be changed. You can also pass a limited list of files for download. \n",
    "\n",
    "Run `obs_info.download_images?` for more information."
   ]
  },
  {
   "cell_type": "code",
   "execution_count": 11,
   "id": "5a3099ff",
   "metadata": {
    "pycharm": {
     "name": "#%%\n"
    }
   },
   "outputs": [],
   "source": [
    "# image_files = obs_info.download_images()"
   ]
  },
  {
   "cell_type": "markdown",
   "id": "4cdd5675",
   "metadata": {
    "pycharm": {
     "name": "#%% md\n"
    }
   },
   "source": [
    "### Write image list to a CSV file, use `wget` to download\n",
    "\n",
    "Or, if you prefer you can just get a list of files saved as csv and work on them in a command line terminal.\n",
    "\n",
    "This first creates a DataFrame then immediately writes that to a CSV file. There are many ways to accomplish this but this is an easy way.\n",
    "\n",
    "We then view the last few lines of the file using the command line tool `tail` called in a cell with the `!` operator.\n",
    "\n",
    "We then use the same `!` operator to call `wget` in the shell and download a list of files. Note that you can just copy the CSV file to your computer or server and use the `wget -i <filename.txt>` command to download all the files. **Note that this can be a lot of data!**"
   ]
  },
  {
   "cell_type": "code",
   "execution_count": 12,
   "id": "bd398c3c",
   "metadata": {
    "pycharm": {
     "name": "#%%\n"
    }
   },
   "outputs": [],
   "source": [
    "# Create a dataframe and then write it to a CSV file.\n",
    "pd.DataFrame(obs_info.get_image_list()).to_csv(f'{obs_info.sequence_id}-raw.txt', index=False, header=False)"
   ]
  },
  {
   "cell_type": "code",
   "execution_count": 13,
   "id": "7f8b8033",
   "metadata": {
    "pycharm": {
     "name": "#%%\n"
    }
   },
   "outputs": [
    {
     "name": "stdout",
     "output_type": "stream",
     "text": [
      "https://storage.googleapis.com/panoptes-images-raw/PAN019/42433a/20220117T104417/20220117T104928.fits.fz\r\n",
      "https://storage.googleapis.com/panoptes-images-raw/PAN019/42433a/20220117T104417/20220117T105131.fits.fz\r\n",
      "https://storage.googleapis.com/panoptes-images-raw/PAN019/42433a/20220117T104417/20220117T105336.fits.fz\r\n",
      "https://storage.googleapis.com/panoptes-images-raw/PAN019/42433a/20220117T104417/20220117T105543.fits.fz\r\n",
      "https://storage.googleapis.com/panoptes-images-raw/PAN019/42433a/20220117T104417/20220117T105747.fits.fz\r\n",
      "https://storage.googleapis.com/panoptes-images-raw/PAN019/42433a/20220117T104417/20220117T105958.fits.fz\r\n",
      "https://storage.googleapis.com/panoptes-images-raw/PAN019/42433a/20220117T104417/20220117T110207.fits.fz\r\n",
      "https://storage.googleapis.com/panoptes-images-raw/PAN019/42433a/20220117T104417/20220117T110412.fits.fz\r\n",
      "https://storage.googleapis.com/panoptes-images-raw/PAN019/42433a/20220117T104417/20220117T110622.fits.fz\r\n",
      "https://storage.googleapis.com/panoptes-images-raw/PAN019/42433a/20220117T104417/20220117T110831.fits.fz\r\n"
     ]
    }
   ],
   "source": [
    "# View the last entries in the file.\n",
    "!tail {obs_info.sequence_id}-raw.txt"
   ]
  },
  {
   "cell_type": "markdown",
   "id": "382b0b1d",
   "metadata": {
    "pycharm": {
     "name": "#%% md\n"
    }
   },
   "source": [
    "#### Download the data"
   ]
  },
  {
   "cell_type": "code",
   "execution_count": 14,
   "id": "7ebaa5f1",
   "metadata": {
    "pycharm": {
     "name": "#%%\n"
    }
   },
   "outputs": [],
   "source": [
    "### Uncomment to run ###\n",
    "# !wget -i {obs_info.sequence_id}-raw.txt\n"
   ]
  }
 ],
 "metadata": {
  "environment": {
   "kernel": "python3",
   "name": "common-cpu.m92",
   "type": "gcloud",
   "uri": "gcr.io/deeplearning-platform-release/base-cpu:m92"
  },
  "kernelspec": {
   "display_name": "Python 3 (ipykernel)",
   "language": "python",
   "name": "python3"
  },
  "language_info": {
   "codemirror_mode": {
    "name": "ipython",
    "version": 3
   },
   "file_extension": ".py",
   "mimetype": "text/x-python",
   "name": "python",
   "nbconvert_exporter": "python",
   "pygments_lexer": "ipython3",
   "version": "3.7.12"
  }
 },
 "nbformat": 4,
 "nbformat_minor": 5
}